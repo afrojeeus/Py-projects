{
 "cells": [
  {
   "cell_type": "code",
   "execution_count": 4,
   "id": "30018176",
   "metadata": {},
   "outputs": [],
   "source": [
    "import telebot;\n",
    "bot = telebot.TeleBot('5676567412:AAH050H3CNPA2WZZjlzWoL0K4Zeh0wH9LA8');"
   ]
  },
  {
   "cell_type": "code",
   "execution_count": null,
   "id": "5574c8d4",
   "metadata": {},
   "outputs": [],
   "source": [
    "@bot.message_handler(content_types=['text'])\n",
    "def get_text_messages(message):\n",
    "    if message.text == 'Hello':\n",
    "        bot.send_message(message.from_user.id, 'Hello! How ca i help you?')\n",
    "    elif message.text == '/help':\n",
    "        bot.send_message(message.from_user.id, 'Say Hello')\n",
    "    else:\n",
    "        bot.send_message(message.from_user.id '')"
   ]
  }
 ],
 "metadata": {
  "kernelspec": {
   "display_name": "Python 3 (ipykernel)",
   "language": "python",
   "name": "python3"
  },
  "language_info": {
   "codemirror_mode": {
    "name": "ipython",
    "version": 3
   },
   "file_extension": ".py",
   "mimetype": "text/x-python",
   "name": "python",
   "nbconvert_exporter": "python",
   "pygments_lexer": "ipython3",
   "version": "3.9.12"
  }
 },
 "nbformat": 4,
 "nbformat_minor": 5
}
